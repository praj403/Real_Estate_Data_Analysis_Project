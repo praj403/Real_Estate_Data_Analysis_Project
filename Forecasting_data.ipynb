{
 "cells": [
  {
   "cell_type": "markdown",
   "id": "20f23bbc",
   "metadata": {},
   "source": [
    "# Objective: Forecasting Locality and Property Price"
   ]
  },
  {
   "cell_type": "markdown",
   "id": "b24c92d5",
   "metadata": {},
   "source": [
    "## Import Libraries "
   ]
  },
  {
   "cell_type": "code",
   "execution_count": 42,
   "id": "843bf1dc",
   "metadata": {},
   "outputs": [],
   "source": [
    "import pandas as pd \n",
    "import numpy as np \n",
    "\n",
    "import plotly.graph_objs as go\n",
    "import matplotlib.pyplot as plt\n",
    "import seaborn as sns \n",
    "\n",
    "import pickle\n",
    "import json\n",
    "\n",
    "from statsmodels.graphics.tsaplots import plot_pacf,plot_acf\n",
    "from statsmodels.tsa.stattools import adfuller\n",
    "import statsmodels.api as sm \n",
    "from statsmodels.tsa.arima.model import ARIMA\n",
    "\n",
    "\n",
    "import warnings \n",
    "warnings.filterwarnings('ignore')"
   ]
  },
  {
   "cell_type": "markdown",
   "id": "da11dd5c",
   "metadata": {},
   "source": [
    "## Exploratory data analysis in a function "
   ]
  },
  {
   "cell_type": "code",
   "execution_count": 2,
   "id": "c59af68d",
   "metadata": {},
   "outputs": [],
   "source": [
    "raw_data = pd.read_csv('Forecast_property.csv')\n",
    "def getData(label='locality',name='Dombivli East',method='nearest'):\n",
    "    hold_data = raw_data[(raw_data.label == label.upper()) & (raw_data.name == name)].copy(deep=True)\n",
    "    hold_data.date = pd.to_datetime(hold_data.date)\n",
    "    hold_data.dropna(inplace=True)\n",
    "    hold_data = hold_data.drop(columns=['budgetRange','name','label','quarter'])\n",
    "    hold_data.rename(columns={'price(per.sqft)':'price'},inplace=True)\n",
    "    hold_data['Quarter'] = hold_data.date.dt.to_period('Q')\n",
    "    hold_data.drop(columns=['date'],axis=1,inplace=True)\n",
    "    hold_data.drop_duplicates(inplace=True)\n",
    "    hold_data = hold_data.groupby(by='Quarter').mean()\n",
    "    hold_data = hold_data.sort_index()\n",
    "    hold_data = hold_data.resample('Q').interpolate(method)\n",
    "    do_forecast = bool(sum([(i.year in [2022,2023])  for i in hold_data.index[-4:]]))\n",
    "    return {'data':hold_data,\n",
    "            'do_forecast':do_forecast}\n",
    "pivot = pd.pivot_table(raw_data[['label','name']],index=['label','name']).copy(deep=True)\n",
    "perm_com = {'LOCALITY':list(pivot.index.get_level_values(1)[pivot.index.get_level_values(0)=='locality'.upper()]),\n",
    "            'PROJECT':list(pivot.index.get_level_values(1)[pivot.index.get_level_values(0)=='project'.upper()])}"
   ]
  },
  {
   "cell_type": "markdown",
   "id": "7258a164",
   "metadata": {},
   "source": [
    "# Model Buidling\n",
    "- Adfuller Test\n",
    "- ACF & PACF plots\n",
    "- ARMA model"
   ]
  },
  {
   "cell_type": "markdown",
   "id": "d5152a62",
   "metadata": {},
   "source": [
    "## 1] Locality- Balaji Nagar"
   ]
  },
  {
   "cell_type": "code",
   "execution_count": 3,
   "id": "2201da0f",
   "metadata": {},
   "outputs": [],
   "source": [
    "data = getData(name='Balaji Nagar',label='locality')['data']"
   ]
  },
  {
   "cell_type": "code",
   "execution_count": 4,
   "id": "77928218",
   "metadata": {},
   "outputs": [
    {
     "data": {
      "text/plain": [
       "(2.0791584504634386,\n",
       " 0.9987673820449665,\n",
       " 5,\n",
       " 9,\n",
       " {'1%': -4.473135048010974,\n",
       "  '5%': -3.28988060356653,\n",
       "  '10%': -2.7723823456790124},\n",
       " 104.9189129054855)"
      ]
     },
     "execution_count": 4,
     "metadata": {},
     "output_type": "execute_result"
    }
   ],
   "source": [
    "adfuller(data.values.ravel())"
   ]
  },
  {
   "cell_type": "code",
   "execution_count": 5,
   "id": "9cc794d4",
   "metadata": {},
   "outputs": [],
   "source": [
    "val = data.values.ravel()\n",
    "first_diff = val[1:]-val[:-1]"
   ]
  },
  {
   "cell_type": "code",
   "execution_count": 6,
   "id": "f82c530e",
   "metadata": {},
   "outputs": [
    {
     "data": {
      "text/plain": [
       "(-5.65432852081489,\n",
       " 9.69867847684715e-07,\n",
       " 5,\n",
       " 8,\n",
       " {'1%': -4.6651863281249994, '5%': -3.3671868750000002, '10%': -2.802960625},\n",
       " 73.35273297298043)"
      ]
     },
     "execution_count": 6,
     "metadata": {},
     "output_type": "execute_result"
    }
   ],
   "source": [
    "adfuller(first_diff)"
   ]
  },
  {
   "cell_type": "code",
   "execution_count": 7,
   "id": "15cbf03e",
   "metadata": {},
   "outputs": [],
   "source": [
    "i = 1"
   ]
  },
  {
   "cell_type": "code",
   "execution_count": 8,
   "id": "b4fcf5c1",
   "metadata": {},
   "outputs": [
    {
     "data": {
      "image/png": "[encoded data removed]",
      "text/plain": [
       "<Figure size 432x288 with 1 Axes>"
      ]
     },
     "metadata": {
      "needs_background": "light"
     },
     "output_type": "display_data"
    }
   ],
   "source": [
    "# MA model\n",
    "plot_acf(first_diff)\n",
    "plt.show()\n",
    "p = 0"
   ]
  },
  {
   "cell_type": "code",
   "execution_count": 9,
   "id": "3ff39b57",
   "metadata": {},
   "outputs": [
    {
     "data": {
      "image/png": "[encoded data removed]",
      "text/plain": [
       "<Figure size 432x288 with 1 Axes>"
      ]
     },
     "metadata": {
      "needs_background": "light"
     },
     "output_type": "display_data"
    }
   ],
   "source": [
    "# AR model\n",
    "plot_pacf(first_diff,lags=6,method='ywm')\n",
    "plt.show()\n",
    "q = 0"
   ]
  },
  {
   "cell_type": "code",
   "execution_count": 10,
   "id": "21e6ac52",
   "metadata": {},
   "outputs": [
    {
     "data": {
      "text/plain": [
       "(0, 1, 0)"
      ]
     },
     "execution_count": 10,
     "metadata": {},
     "output_type": "execute_result"
    }
   ],
   "source": [
    "order = (p,i,q)\n",
    "order "
   ]
  },
  {
   "cell_type": "code",
   "execution_count": 11,
   "id": "4a3b953f",
   "metadata": {},
   "outputs": [],
   "source": [
    "model = ARIMA(val,order=(0,1,0)).fit()"
   ]
  },
  {
   "cell_type": "code",
   "execution_count": 12,
   "id": "41562cf2",
   "metadata": {},
   "outputs": [
    {
     "data": {
      "text/html": [
       "<table class=\"simpletable\">\n",
       "<caption>SARIMAX Results</caption>\n",
       "<tr>\n",
       "  <th>Dep. Variable:</th>           <td>y</td>        <th>  No. Observations:  </th>   <td>15</td>   \n",
       "</tr>\n",
       "<tr>\n",
       "  <th>Model:</th>            <td>ARIMA(0, 1, 0)</td>  <th>  Log Likelihood     </th> <td>-91.598</td>\n",
       "</tr>\n",
       "<tr>\n",
       "  <th>Date:</th>            <td>Wed, 15 Feb 2023</td> <th>  AIC                </th> <td>185.196</td>\n",
       "</tr>\n",
       "<tr>\n",
       "  <th>Time:</th>                <td>13:27:46</td>     <th>  BIC                </th> <td>185.836</td>\n",
       "</tr>\n",
       "<tr>\n",
       "  <th>Sample:</th>                  <td>0</td>        <th>  HQIC               </th> <td>185.137</td>\n",
       "</tr>\n",
       "<tr>\n",
       "  <th></th>                       <td> - 15</td>      <th>                     </th>    <td> </td>   \n",
       "</tr>\n",
       "<tr>\n",
       "  <th>Covariance Type:</th>        <td>opg</td>       <th>                     </th>    <td> </td>   \n",
       "</tr>\n",
       "</table>\n",
       "<table class=\"simpletable\">\n",
       "<tr>\n",
       "     <td></td>       <th>coef</th>     <th>std err</th>      <th>z</th>      <th>P>|z|</th>  <th>[0.025</th>    <th>0.975]</th>  \n",
       "</tr>\n",
       "<tr>\n",
       "  <th>sigma2</th> <td> 2.821e+04</td> <td> 7357.399</td> <td>    3.834</td> <td> 0.000</td> <td> 1.38e+04</td> <td> 4.26e+04</td>\n",
       "</tr>\n",
       "</table>\n",
       "<table class=\"simpletable\">\n",
       "<tr>\n",
       "  <th>Ljung-Box (L1) (Q):</th>     <td>1.02</td> <th>  Jarque-Bera (JB):  </th> <td>4.87</td>\n",
       "</tr>\n",
       "<tr>\n",
       "  <th>Prob(Q):</th>                <td>0.31</td> <th>  Prob(JB):          </th> <td>0.09</td>\n",
       "</tr>\n",
       "<tr>\n",
       "  <th>Heteroskedasticity (H):</th> <td>0.85</td> <th>  Skew:              </th> <td>1.39</td>\n",
       "</tr>\n",
       "<tr>\n",
       "  <th>Prob(H) (two-sided):</th>    <td>0.86</td> <th>  Kurtosis:          </th> <td>3.82</td>\n",
       "</tr>\n",
       "</table><br/><br/>Warnings:<br/>[1] Covariance matrix calculated using the outer product of gradients (complex-step)."
      ],
      "text/plain": [
       "<class 'statsmodels.iolib.summary.Summary'>\n",
       "\"\"\"\n",
       "                               SARIMAX Results                                \n",
       "==============================================================================\n",
       "Dep. Variable:                      y   No. Observations:                   15\n",
       "Model:                 ARIMA(0, 1, 0)   Log Likelihood                 -91.598\n",
       "Date:                Wed, 15 Feb 2023   AIC                            185.196\n",
       "Time:                        13:27:46   BIC                            185.836\n",
       "Sample:                             0   HQIC                           185.137\n",
       "                                 - 15                                         \n",
       "Covariance Type:                  opg                                         \n",
       "==============================================================================\n",
       "                 coef    std err          z      P>|z|      [0.025      0.975]\n",
       "------------------------------------------------------------------------------\n",
       "sigma2      2.821e+04   7357.399      3.834      0.000    1.38e+04    4.26e+04\n",
       "===================================================================================\n",
       "Ljung-Box (L1) (Q):                   1.02   Jarque-Bera (JB):                 4.87\n",
       "Prob(Q):                              0.31   Prob(JB):                         0.09\n",
       "Heteroskedasticity (H):               0.85   Skew:                             1.39\n",
       "Prob(H) (two-sided):                  0.86   Kurtosis:                         3.82\n",
       "===================================================================================\n",
       "\n",
       "Warnings:\n",
       "[1] Covariance matrix calculated using the outer product of gradients (complex-step).\n",
       "\"\"\""
      ]
     },
     "execution_count": 12,
     "metadata": {},
     "output_type": "execute_result"
    }
   ],
   "source": [
    "model.summary()"
   ]
  },
  {
   "cell_type": "markdown",
   "id": "9b746390",
   "metadata": {},
   "source": [
    "## 2] Project -Runwal My City"
   ]
  },
  {
   "cell_type": "code",
   "execution_count": 13,
   "id": "5c334bc3",
   "metadata": {},
   "outputs": [],
   "source": [
    "runwal = getData(label='project',name='Runwal My City')['data']"
   ]
  },
  {
   "cell_type": "code",
   "execution_count": 14,
   "id": "ea45fd87",
   "metadata": {},
   "outputs": [
    {
     "data": {
      "text/plain": [
       "(-1.9758931837311033,\n",
       " 0.297242083948243,\n",
       " 10,\n",
       " 23,\n",
       " {'1%': -3.7529275211638033,\n",
       "  '5%': -2.998499866852963,\n",
       "  '10%': -2.6389669754253307},\n",
       " 341.3114617869243)"
      ]
     },
     "execution_count": 14,
     "metadata": {},
     "output_type": "execute_result"
    }
   ],
   "source": [
    "adfuller(runwal)"
   ]
  },
  {
   "cell_type": "code",
   "execution_count": 15,
   "id": "8d6ca8ab",
   "metadata": {},
   "outputs": [
    {
     "data": {
      "text/html": [
       "<div>\n",
       "<style scoped>\n",
       "    .dataframe tbody tr th:only-of-type {\n",
       "        vertical-align: middle;\n",
       "    }\n",
       "\n",
       "    .dataframe tbody tr th {\n",
       "        vertical-align: top;\n",
       "    }\n",
       "\n",
       "    .dataframe thead th {\n",
       "        text-align: right;\n",
       "    }\n",
       "</style>\n",
       "<table border=\"1\" class=\"dataframe\">\n",
       "  <thead>\n",
       "    <tr style=\"text-align: right;\">\n",
       "      <th></th>\n",
       "      <th>price</th>\n",
       "    </tr>\n",
       "    <tr>\n",
       "      <th>Quarter</th>\n",
       "      <th></th>\n",
       "    </tr>\n",
       "  </thead>\n",
       "  <tbody>\n",
       "    <tr>\n",
       "      <th>2014Q3</th>\n",
       "      <td>4450.0</td>\n",
       "    </tr>\n",
       "    <tr>\n",
       "      <th>2014Q4</th>\n",
       "      <td>4600.0</td>\n",
       "    </tr>\n",
       "    <tr>\n",
       "      <th>2015Q1</th>\n",
       "      <td>4600.0</td>\n",
       "    </tr>\n",
       "    <tr>\n",
       "      <th>2015Q2</th>\n",
       "      <td>5150.0</td>\n",
       "    </tr>\n",
       "    <tr>\n",
       "      <th>2015Q3</th>\n",
       "      <td>5400.0</td>\n",
       "    </tr>\n",
       "  </tbody>\n",
       "</table>\n",
       "</div>"
      ],
      "text/plain": [
       "          price\n",
       "Quarter        \n",
       "2014Q3   4450.0\n",
       "2014Q4   4600.0\n",
       "2015Q1   4600.0\n",
       "2015Q2   5150.0\n",
       "2015Q3   5400.0"
      ]
     },
     "execution_count": 15,
     "metadata": {},
     "output_type": "execute_result"
    }
   ],
   "source": [
    "runwal.head()"
   ]
  },
  {
   "cell_type": "code",
   "execution_count": 16,
   "id": "bcb6f477",
   "metadata": {},
   "outputs": [],
   "source": [
    "runwal['first_diff'] = runwal.price - runwal.price.shift(1)"
   ]
  },
  {
   "cell_type": "code",
   "execution_count": 17,
   "id": "d3ef982c",
   "metadata": {},
   "outputs": [],
   "source": [
    "runwal.dropna(inplace=True)"
   ]
  },
  {
   "cell_type": "code",
   "execution_count": 18,
   "id": "d50bc65f",
   "metadata": {},
   "outputs": [
    {
     "data": {
      "text/html": [
       "<div>\n",
       "<style scoped>\n",
       "    .dataframe tbody tr th:only-of-type {\n",
       "        vertical-align: middle;\n",
       "    }\n",
       "\n",
       "    .dataframe tbody tr th {\n",
       "        vertical-align: top;\n",
       "    }\n",
       "\n",
       "    .dataframe thead th {\n",
       "        text-align: right;\n",
       "    }\n",
       "</style>\n",
       "<table border=\"1\" class=\"dataframe\">\n",
       "  <thead>\n",
       "    <tr style=\"text-align: right;\">\n",
       "      <th></th>\n",
       "      <th>price</th>\n",
       "      <th>first_diff</th>\n",
       "    </tr>\n",
       "    <tr>\n",
       "      <th>Quarter</th>\n",
       "      <th></th>\n",
       "      <th></th>\n",
       "    </tr>\n",
       "  </thead>\n",
       "  <tbody>\n",
       "    <tr>\n",
       "      <th>2014Q4</th>\n",
       "      <td>4600.0</td>\n",
       "      <td>150.0</td>\n",
       "    </tr>\n",
       "    <tr>\n",
       "      <th>2015Q1</th>\n",
       "      <td>4600.0</td>\n",
       "      <td>0.0</td>\n",
       "    </tr>\n",
       "    <tr>\n",
       "      <th>2015Q2</th>\n",
       "      <td>5150.0</td>\n",
       "      <td>550.0</td>\n",
       "    </tr>\n",
       "    <tr>\n",
       "      <th>2015Q3</th>\n",
       "      <td>5400.0</td>\n",
       "      <td>250.0</td>\n",
       "    </tr>\n",
       "    <tr>\n",
       "      <th>2015Q4</th>\n",
       "      <td>5300.0</td>\n",
       "      <td>-100.0</td>\n",
       "    </tr>\n",
       "  </tbody>\n",
       "</table>\n",
       "</div>"
      ],
      "text/plain": [
       "          price  first_diff\n",
       "Quarter                    \n",
       "2014Q4   4600.0       150.0\n",
       "2015Q1   4600.0         0.0\n",
       "2015Q2   5150.0       550.0\n",
       "2015Q3   5400.0       250.0\n",
       "2015Q4   5300.0      -100.0"
      ]
     },
     "execution_count": 18,
     "metadata": {},
     "output_type": "execute_result"
    }
   ],
   "source": [
    "runwal.head()"
   ]
  },
  {
   "cell_type": "code",
   "execution_count": 19,
   "id": "82e4d596",
   "metadata": {},
   "outputs": [],
   "source": [
    "adfuller(runwal.first_diff)\n",
    "i = 1"
   ]
  },
  {
   "cell_type": "code",
   "execution_count": 20,
   "id": "64ecad31",
   "metadata": {},
   "outputs": [
    {
     "data": {
      "image/png": "[encoded data removed]",
      "text/plain": [
       "<Figure size 432x288 with 1 Axes>"
      ]
     },
     "metadata": {
      "needs_background": "light"
     },
     "output_type": "display_data"
    }
   ],
   "source": [
    "# AR models\n",
    "plot_pacf(runwal.first_diff,lags=10,method='ywm')\n",
    "plt.show()\n",
    "p = 2"
   ]
  },
  {
   "cell_type": "code",
   "execution_count": 21,
   "id": "c8df9a41",
   "metadata": {},
   "outputs": [
    {
     "data": {
      "image/png": "[encoded data removed]",
      "text/plain": [
       "<Figure size 432x288 with 1 Axes>"
      ]
     },
     "metadata": {
      "needs_background": "light"
     },
     "output_type": "display_data"
    }
   ],
   "source": [
    "# MA model\n",
    "plot_acf(runwal.first_diff,lags=15)\n",
    "plt.show()\n",
    "q = 6"
   ]
  },
  {
   "cell_type": "code",
   "execution_count": 22,
   "id": "1b5d87a7",
   "metadata": {},
   "outputs": [
    {
     "data": {
      "text/plain": [
       "(2, 1, 6)"
      ]
     },
     "execution_count": 22,
     "metadata": {},
     "output_type": "execute_result"
    }
   ],
   "source": [
    "order = (p,i,q)\n",
    "order"
   ]
  },
  {
   "cell_type": "code",
   "execution_count": 23,
   "id": "093d24d6",
   "metadata": {},
   "outputs": [],
   "source": [
    "model = ARIMA(runwal.price,order=(2,1,6)).fit()"
   ]
  },
  {
   "cell_type": "markdown",
   "id": "ceb72734",
   "metadata": {},
   "source": [
    "## 3] Project- Regency Anantam"
   ]
  },
  {
   "cell_type": "code",
   "execution_count": 24,
   "id": "9f5fcef8",
   "metadata": {},
   "outputs": [],
   "source": [
    "regency = getData(label='project',name='Regency Anantam')['data']"
   ]
  },
  {
   "cell_type": "code",
   "execution_count": 25,
   "id": "1bc54c88",
   "metadata": {},
   "outputs": [
    {
     "data": {
      "text/plain": [
       "(-0.2997973376164609,\n",
       " 0.925533030365009,\n",
       " 6,\n",
       " 10,\n",
       " {'1%': -4.331573, '5%': -3.23295, '10%': -2.7487},\n",
       " 149.58073891425738)"
      ]
     },
     "execution_count": 25,
     "metadata": {},
     "output_type": "execute_result"
    }
   ],
   "source": [
    "# no diff\n",
    "raw = regency.price.values.ravel()\n",
    "adfuller(raw)"
   ]
  },
  {
   "cell_type": "code",
   "execution_count": 26,
   "id": "21623158",
   "metadata": {},
   "outputs": [
    {
     "data": {
      "text/plain": [
       "(-2.364335742959198,\n",
       " 0.1520563613853969,\n",
       " 5,\n",
       " 10,\n",
       " {'1%': -4.331573, '5%': -3.23295, '10%': -2.7487},\n",
       " 130.57402756132313)"
      ]
     },
     "execution_count": 26,
     "metadata": {},
     "output_type": "execute_result"
    }
   ],
   "source": [
    "# first diff\n",
    "raw = raw[1:]-raw[:-1]\n",
    "adfuller(raw)"
   ]
  },
  {
   "cell_type": "code",
   "execution_count": 27,
   "id": "1c9229bc",
   "metadata": {},
   "outputs": [
    {
     "data": {
      "text/plain": [
       "(-4.835480668829896,\n",
       " 4.649434579992521e-05,\n",
       " 3,\n",
       " 11,\n",
       " {'1%': -4.223238279489106,\n",
       "  '5%': -3.189368925619835,\n",
       "  '10%': -2.729839421487603},\n",
       " 141.60072761370608)"
      ]
     },
     "execution_count": 27,
     "metadata": {},
     "output_type": "execute_result"
    }
   ],
   "source": [
    "# second diff\n",
    "raw = raw[1:]-raw[:-1]\n",
    "adfuller(raw)"
   ]
  },
  {
   "cell_type": "code",
   "execution_count": 28,
   "id": "f2964318",
   "metadata": {},
   "outputs": [],
   "source": [
    "i = 2"
   ]
  },
  {
   "cell_type": "code",
   "execution_count": 29,
   "id": "099ee802",
   "metadata": {},
   "outputs": [
    {
     "data": {
      "image/png": "[encoded data removed]",
      "text/plain": [
       "<Figure size 432x288 with 1 Axes>"
      ]
     },
     "metadata": {
      "needs_background": "light"
     },
     "output_type": "display_data"
    }
   ],
   "source": [
    "# AR model\n",
    "plot_pacf(raw,lags=6,method='ywm')\n",
    "plt.show()\n",
    "p = 1  # 1,4"
   ]
  },
  {
   "cell_type": "code",
   "execution_count": 30,
   "id": "cc1ace9d",
   "metadata": {},
   "outputs": [
    {
     "data": {
      "image/png": "[encoded data removed]",
      "text/plain": [
       "<Figure size 432x288 with 1 Axes>"
      ]
     },
     "metadata": {
      "needs_background": "light"
     },
     "output_type": "display_data"
    }
   ],
   "source": [
    "# MA model\n",
    "plot_acf(raw,lags=6)\n",
    "plt.show()\n",
    "q = 1"
   ]
  },
  {
   "cell_type": "code",
   "execution_count": 31,
   "id": "685a0875",
   "metadata": {},
   "outputs": [
    {
     "data": {
      "text/plain": [
       "(1, 2, 1)"
      ]
     },
     "execution_count": 31,
     "metadata": {},
     "output_type": "execute_result"
    }
   ],
   "source": [
    "order = (p,i,q)\n",
    "order"
   ]
  },
  {
   "cell_type": "code",
   "execution_count": 32,
   "id": "439f8350",
   "metadata": {},
   "outputs": [],
   "source": [
    "model = ARIMA(regency.price, order=(1,2,1)).fit()"
   ]
  },
  {
   "cell_type": "code",
   "execution_count": 33,
   "id": "a2c4b99f",
   "metadata": {},
   "outputs": [
    {
     "data": {
      "text/html": [
       "<table class=\"simpletable\">\n",
       "<caption>SARIMAX Results</caption>\n",
       "<tr>\n",
       "  <th>Dep. Variable:</th>         <td>price</td>      <th>  No. Observations:  </th>    <td>17</td>   \n",
       "</tr>\n",
       "<tr>\n",
       "  <th>Model:</th>            <td>ARIMA(1, 2, 1)</td>  <th>  Log Likelihood     </th> <td>-117.042</td>\n",
       "</tr>\n",
       "<tr>\n",
       "  <th>Date:</th>            <td>Wed, 15 Feb 2023</td> <th>  AIC                </th>  <td>240.084</td>\n",
       "</tr>\n",
       "<tr>\n",
       "  <th>Time:</th>                <td>13:27:51</td>     <th>  BIC                </th>  <td>242.208</td>\n",
       "</tr>\n",
       "<tr>\n",
       "  <th>Sample:</th>             <td>12-31-2018</td>    <th>  HQIC               </th>  <td>240.061</td>\n",
       "</tr>\n",
       "<tr>\n",
       "  <th></th>                   <td>- 12-31-2022</td>   <th>                     </th>     <td> </td>   \n",
       "</tr>\n",
       "<tr>\n",
       "  <th>Covariance Type:</th>        <td>opg</td>       <th>                     </th>     <td> </td>   \n",
       "</tr>\n",
       "</table>\n",
       "<table class=\"simpletable\">\n",
       "<tr>\n",
       "     <td></td>       <th>coef</th>     <th>std err</th>      <th>z</th>      <th>P>|z|</th>  <th>[0.025</th>    <th>0.975]</th>  \n",
       "</tr>\n",
       "<tr>\n",
       "  <th>ar.L1</th>  <td>    0.0947</td> <td>    0.216</td> <td>    0.437</td> <td> 0.662</td> <td>   -0.330</td> <td>    0.519</td>\n",
       "</tr>\n",
       "<tr>\n",
       "  <th>ma.L1</th>  <td>   -0.9987</td> <td>    0.425</td> <td>   -2.347</td> <td> 0.019</td> <td>   -1.833</td> <td>   -0.165</td>\n",
       "</tr>\n",
       "<tr>\n",
       "  <th>sigma2</th> <td> 2.176e+05</td> <td> 1.98e-06</td> <td>  1.1e+11</td> <td> 0.000</td> <td> 2.18e+05</td> <td> 2.18e+05</td>\n",
       "</tr>\n",
       "</table>\n",
       "<table class=\"simpletable\">\n",
       "<tr>\n",
       "  <th>Ljung-Box (L1) (Q):</th>     <td>0.48</td> <th>  Jarque-Bera (JB):  </th> <td>0.72</td> \n",
       "</tr>\n",
       "<tr>\n",
       "  <th>Prob(Q):</th>                <td>0.49</td> <th>  Prob(JB):          </th> <td>0.70</td> \n",
       "</tr>\n",
       "<tr>\n",
       "  <th>Heteroskedasticity (H):</th> <td>0.13</td> <th>  Skew:              </th> <td>-0.46</td>\n",
       "</tr>\n",
       "<tr>\n",
       "  <th>Prob(H) (two-sided):</th>    <td>0.04</td> <th>  Kurtosis:          </th> <td>2.44</td> \n",
       "</tr>\n",
       "</table><br/><br/>Warnings:<br/>[1] Covariance matrix calculated using the outer product of gradients (complex-step).<br/>[2] Covariance matrix is singular or near-singular, with condition number 4.24e+26. Standard errors may be unstable."
      ],
      "text/plain": [
       "<class 'statsmodels.iolib.summary.Summary'>\n",
       "\"\"\"\n",
       "                               SARIMAX Results                                \n",
       "==============================================================================\n",
       "Dep. Variable:                  price   No. Observations:                   17\n",
       "Model:                 ARIMA(1, 2, 1)   Log Likelihood                -117.042\n",
       "Date:                Wed, 15 Feb 2023   AIC                            240.084\n",
       "Time:                        13:27:51   BIC                            242.208\n",
       "Sample:                    12-31-2018   HQIC                           240.061\n",
       "                         - 12-31-2022                                         \n",
       "Covariance Type:                  opg                                         \n",
       "==============================================================================\n",
       "                 coef    std err          z      P>|z|      [0.025      0.975]\n",
       "------------------------------------------------------------------------------\n",
       "ar.L1          0.0947      0.216      0.437      0.662      -0.330       0.519\n",
       "ma.L1         -0.9987      0.425     -2.347      0.019      -1.833      -0.165\n",
       "sigma2      2.176e+05   1.98e-06    1.1e+11      0.000    2.18e+05    2.18e+05\n",
       "===================================================================================\n",
       "Ljung-Box (L1) (Q):                   0.48   Jarque-Bera (JB):                 0.72\n",
       "Prob(Q):                              0.49   Prob(JB):                         0.70\n",
       "Heteroskedasticity (H):               0.13   Skew:                            -0.46\n",
       "Prob(H) (two-sided):                  0.04   Kurtosis:                         2.44\n",
       "===================================================================================\n",
       "\n",
       "Warnings:\n",
       "[1] Covariance matrix calculated using the outer product of gradients (complex-step).\n",
       "[2] Covariance matrix is singular or near-singular, with condition number 4.24e+26. Standard errors may be unstable.\n",
       "\"\"\""
      ]
     },
     "execution_count": 33,
     "metadata": {},
     "output_type": "execute_result"
    }
   ],
   "source": [
    "model.summary()"
   ]
  },
  {
   "cell_type": "code",
   "execution_count": 34,
   "id": "00dc1c2f",
   "metadata": {},
   "outputs": [
    {
     "data": {
      "text/plain": [
       "<AxesSubplot:>"
      ]
     },
     "execution_count": 34,
     "metadata": {},
     "output_type": "execute_result"
    },
    {
     "data": {
      "image/png": "[encoded data removed]",
      "text/plain": [
       "<Figure size 432x288 with 1 Axes>"
      ]
     },
     "metadata": {
      "needs_background": "light"
     },
     "output_type": "display_data"
    }
   ],
   "source": [
    "model.forecast(5).plot()"
   ]
  },
  {
   "cell_type": "code",
   "execution_count": 35,
   "id": "95979968",
   "metadata": {},
   "outputs": [],
   "source": [
    "name = ['PROJECT Lodha Palava City',\n",
    "'PROJECT Lodha Lakeshore Greens',\n",
    "'PROJECT Lodha Casario',\n",
    "'PROJECT Lodha Casa Rio Gold',\n",
    "'PROJECT Lodha Casa Bella Gold',\n",
    "'PROJECT Happy Sarvodaya Trilok',\n",
    "'LOCALITY Sagarli',\n",
    "'LOCALITY Sagaon',\n",
    "'LOCALITY Nilje Gaon',\n",
    "'LOCALITY Dawadi Gaon',\n",
    "'LOCALITY Balaji Nagar',\n",
    "'PROJECT Shree Chamunda Garden',\n",
    "'PROJECT Runwal My City',\n",
    "'PROJECT Neelsidhi Balaji Garden',\n",
    "'PROJECT Lodha Regency',\n",
    "'PROJECT Lodha Palava Downtown',\n",
    "'PROJECT Lodha Golflinks',\n",
    "'PROJECT Lodha Exotica',\n",
    "'PROJECT Lodha Casa Bella',\n",
    "'LOCALITY thakurli',\n",
    "'LOCALITY Sunil Nagar',\n",
    "'LOCALITY Pendse Nagar',\n",
    "'LOCALITY Nandivali Panchanand',\n",
    "'LOCALITY Dombivli East',\n",
    "'PROJECT Regency Anantam',\n",
    "'LOCALITY P and T Colony',\n",
    "'LOCALITY Nandivali Gaon',\n",
    "'PROJECT Anantnath And Forever City',\n",
    "'LOCALITY Nandivli',\n",
    "'LOCALITY Gograswadi',\n",
    "'PROJECT Siddharth Riverwood Park']"
   ]
  },
  {
   "cell_type": "code",
   "execution_count": 36,
   "id": "efa57715",
   "metadata": {},
   "outputs": [],
   "source": [
    "ls = [[i.split(' ')[0],' '.join(i.split(' ')[1:])] for i in name]"
   ]
  },
  {
   "cell_type": "raw",
   "id": "e5d85915",
   "metadata": {},
   "source": [
    "'LOCALITY Gograswadi',\n",
    "'PROJECT Siddharth Riverwood Park'"
   ]
  },
  {
   "cell_type": "code",
   "execution_count": 37,
   "id": "741df6b4",
   "metadata": {},
   "outputs": [],
   "source": [
    "order= [(1,0,2),(1,0,2),(1,0,1),(1,0,1),(1,0,1),(1,0,1),(1,0,0),(2,0,2),(1,0,1),(1,0,1),\n",
    "(0,1,0),(0,1,0),(2,1,6),(0,1,0),(0,1,0),(2,1,2),(0,1,0),(4,1,4),(0,1,0),\n",
    "(0,1,0),(0,1,0),(0,1,0),(0,1,0),(0,1,0),(1,2,1),(1,2,1),(1,2,1),(1,3,1),(1,3,1),\n",
    "(1,2,1),(1,5,1)]"
   ]
  },
  {
   "cell_type": "code",
   "execution_count": 38,
   "id": "fcc8487e",
   "metadata": {},
   "outputs": [],
   "source": [
    "num = 0\n",
    "info = list(zip(ls,order))[num]\n",
    "data = getData(label=info[0][0],name=info[0][1])['data']\n",
    "model = ARIMA(data,order=info[-1]).fit()"
   ]
  },
  {
   "cell_type": "code",
   "execution_count": 39,
   "id": "22945d9e",
   "metadata": {},
   "outputs": [],
   "source": [
    "for i in list(zip(ls,order)):\n",
    "    data = getData(label=i[0][0],name=i[0][1])['data']\n",
    "    model = ARIMA(data,order=i[-1]).fit()\n",
    "    data.tail(5)\n",
    "    model.forecast(5)"
   ]
  },
  {
   "cell_type": "code",
   "execution_count": 40,
   "id": "6f2916a1",
   "metadata": {},
   "outputs": [
    {
     "data": {
      "text/plain": [
       "[(['PROJECT', 'Lodha Palava City'], (1, 0, 2)),\n",
       " (['PROJECT', 'Lodha Lakeshore Greens'], (1, 0, 2)),\n",
       " (['PROJECT', 'Lodha Casario'], (1, 0, 1)),\n",
       " (['PROJECT', 'Lodha Casa Rio Gold'], (1, 0, 1)),\n",
       " (['PROJECT', 'Lodha Casa Bella Gold'], (1, 0, 1)),\n",
       " (['PROJECT', 'Happy Sarvodaya Trilok'], (1, 0, 1)),\n",
       " (['LOCALITY', 'Sagarli'], (1, 0, 0)),\n",
       " (['LOCALITY', 'Sagaon'], (2, 0, 2)),\n",
       " (['LOCALITY', 'Nilje Gaon'], (1, 0, 1)),\n",
       " (['LOCALITY', 'Dawadi Gaon'], (1, 0, 1)),\n",
       " (['LOCALITY', 'Balaji Nagar'], (0, 1, 0)),\n",
       " (['PROJECT', 'Shree Chamunda Garden'], (0, 1, 0)),\n",
       " (['PROJECT', 'Runwal My City'], (2, 1, 6)),\n",
       " (['PROJECT', 'Neelsidhi Balaji Garden'], (0, 1, 0)),\n",
       " (['PROJECT', 'Lodha Regency'], (0, 1, 0)),\n",
       " (['PROJECT', 'Lodha Palava Downtown'], (2, 1, 2)),\n",
       " (['PROJECT', 'Lodha Golflinks'], (0, 1, 0)),\n",
       " (['PROJECT', 'Lodha Exotica'], (4, 1, 4)),\n",
       " (['PROJECT', 'Lodha Casa Bella'], (0, 1, 0)),\n",
       " (['LOCALITY', 'thakurli'], (0, 1, 0)),\n",
       " (['LOCALITY', 'Sunil Nagar'], (0, 1, 0)),\n",
       " (['LOCALITY', 'Pendse Nagar'], (0, 1, 0)),\n",
       " (['LOCALITY', 'Nandivali Panchanand'], (0, 1, 0)),\n",
       " (['LOCALITY', 'Dombivli East'], (0, 1, 0)),\n",
       " (['PROJECT', 'Regency Anantam'], (1, 2, 1)),\n",
       " (['LOCALITY', 'P and T Colony'], (1, 2, 1)),\n",
       " (['LOCALITY', 'Nandivali Gaon'], (1, 2, 1)),\n",
       " (['PROJECT', 'Anantnath And Forever City'], (1, 3, 1)),\n",
       " (['LOCALITY', 'Nandivli'], (1, 3, 1)),\n",
       " (['LOCALITY', 'Gograswadi'], (1, 2, 1)),\n",
       " (['PROJECT', 'Siddharth Riverwood Park'], (1, 5, 1))]"
      ]
     },
     "execution_count": 40,
     "metadata": {},
     "output_type": "execute_result"
    }
   ],
   "source": [
    "info = list(zip(ls,order))\n",
    "info"
   ]
  },
  {
   "cell_type": "code",
   "execution_count": 41,
   "id": "12ba7630",
   "metadata": {},
   "outputs": [],
   "source": [
    "fileMap = {}\n",
    "count = 0\n",
    "for point in info:\n",
    "    label, name , order = point[0][0] ,point[0][-1], point[-1]\n",
    "    data = getData(label=label,name=name)['data']\n",
    "    model = ARIMA(data,order=order).fit()\n",
    "    # save model \n",
    "    path = 'forecast models\\\\'+label+'_'+name+'.pkl'\n",
    "    pickle.dump(model,open(path,'wb'))\n",
    "    # add that file name to fileMap\n",
    "    fileMap[name] = path\n",
    "    count += 1\n",
    "with open('forecast models\\\\'+'fileMap.json','w') as file:\n",
    "    json.dump(fileMap,file,indent=4)"
   ]
  },
  {
   "cell_type": "code",
   "execution_count": 43,
   "id": "461b6366",
   "metadata": {},
   "outputs": [],
   "source": [
    "filemap = json.load(open(r'forecast models\\fileMap.json','rb'))\n",
    "forecast = {}\n",
    "for name in filemap.keys():\n",
    "    forecast[name] = pickle.load(open(filemap[name],'rb'))"
   ]
  },
  {
   "cell_type": "code",
   "execution_count": 44,
   "id": "8fe8bbe9",
   "metadata": {},
   "outputs": [],
   "source": [
    "model = forecast['thakurli']"
   ]
  },
  {
   "cell_type": "code",
   "execution_count": 45,
   "id": "556ad235",
   "metadata": {},
   "outputs": [
    {
     "data": {
      "text/plain": [
       "2023Q1    7600.0\n",
       "2023Q2    7600.0\n",
       "2023Q3    7600.0\n",
       "2023Q4    7600.0\n",
       "Freq: Q-DEC, Name: predicted_mean, dtype: float64"
      ]
     },
     "execution_count": 45,
     "metadata": {},
     "output_type": "execute_result"
    }
   ],
   "source": [
    "model.forecast(4)"
   ]
  },
  {
   "cell_type": "code",
   "execution_count": 46,
   "id": "addea660",
   "metadata": {},
   "outputs": [
    {
     "data": {
      "text/plain": [
       "4"
      ]
     },
     "execution_count": 46,
     "metadata": {},
     "output_type": "execute_result"
    }
   ],
   "source": [
    "# if quarter == 3 then forecast number -> 5\n",
    "# else 4\n",
    "getData(name=name,label=label)['data'].index[-1].quarter "
   ]
  },
  {
   "cell_type": "code",
   "execution_count": 48,
   "id": "ad5d01ce",
   "metadata": {},
   "outputs": [
    {
     "data": {
      "text/plain": [
       "[1, 2, 3]"
      ]
     },
     "execution_count": 48,
     "metadata": {},
     "output_type": "execute_result"
    }
   ],
   "source": [
    "x = [1,2,3]\n",
    "x"
   ]
  },
  {
   "cell_type": "markdown",
   "id": "619321dc",
   "metadata": {},
   "source": [
    "## Added the above data in 'app.py'  file \n",
    "- Further script written in app.py file for streamlit deployment"
   ]
  }
 ],
 "metadata": {
  "kernelspec": {
   "display_name": "Python 3 (ipykernel)",
   "language": "python",
   "name": "python3"
  },
  "language_info": {
   "codemirror_mode": {
    "name": "ipython",
    "version": 3
   },
   "file_extension": ".py",
   "mimetype": "text/x-python",
   "name": "python",
   "nbconvert_exporter": "python",
   "pygments_lexer": "ipython3",
   "version": "3.9.12"
  }
 },
 "nbformat": 4,
 "nbformat_minor": 5
}
